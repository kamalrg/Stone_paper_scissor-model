{
  "nbformat": 4,
  "nbformat_minor": 0,
  "metadata": {
    "colab": {
      "name": "stone paper colab.ipynb",
      "provenance": []
    },
    "kernelspec": {
      "name": "python3",
      "display_name": "Python 3"
    },
    "accelerator": "GPU"
  },
  "cells": [
    {
      "cell_type": "code",
      "metadata": {
        "id": "ycY7Q8smui6B"
      },
      "source": [
        "\n",
        "train_data = '/content/drive/My Drive/rock paper scissor dataset/107582_309628_bundle_archive.zip'\n"
      ],
      "execution_count": null,
      "outputs": []
    },
    {
      "cell_type": "code",
      "metadata": {
        "id": "HSp5y9tN3m5M"
      },
      "source": [
        "import zipfile\n",
        "\n",
        "with zipfile.ZipFile(train_data, 'r') as z:\n",
        "    z.extractall()"
      ],
      "execution_count": null,
      "outputs": []
    },
    {
      "cell_type": "code",
      "metadata": {
        "id": "NZ8X0mY6319U"
      },
      "source": [
        "import os\n",
        "base_dir = '/content/train'\n",
        "rock_dir = os.path.join(base_dir,'rock')\n",
        "paper_dir = os.path.join(base_dir,'paper')\n",
        "scissors_dir = os.path.join(base_dir,'scissors')"
      ],
      "execution_count": null,
      "outputs": []
    },
    {
      "cell_type": "code",
      "metadata": {
        "id": "-tGTErVI7OJ5",
        "colab": {
          "base_uri": "https://localhost:8080/",
          "height": 68
        },
        "outputId": "2d1ea1e8-0a1f-4d51-c6a0-0191d140718b"
      },
      "source": [
        "print(\"Rock : \",len(os.listdir(rock_dir)))\n",
        "print(\"Paper : \",len(os.listdir(paper_dir)))\n",
        "print(\"Scissors : \",len(os.listdir(scissors_dir)))"
      ],
      "execution_count": null,
      "outputs": [
        {
          "output_type": "stream",
          "text": [
            "Rock :  726\n",
            "Paper :  712\n",
            "Scissors :  750\n"
          ],
          "name": "stdout"
        }
      ]
    },
    {
      "cell_type": "code",
      "metadata": {
        "id": "Pgd5VJUi7QgW",
        "colab": {
          "base_uri": "https://localhost:8080/",
          "height": 51
        },
        "outputId": "4a0e8c18-4cdd-432a-8e38-0c97331a5e99"
      },
      "source": [
        "from tensorflow.keras.preprocessing.image import ImageDataGenerator\n",
        "batch_size=32\n",
        "img_rows,img_cols=120,120\n",
        "num_classes=3\n",
        "\n",
        "datagen = ImageDataGenerator(\n",
        "                rescale = 1/255,\n",
        "                zoom_range = 0.20,\n",
        "                rotation_range = 0.10,\n",
        "                horizontal_flip = True,\n",
        "                vertical_flip = True,\n",
        "                fill_mode = 'nearest',\n",
        "                validation_split = 0.4\n",
        ")\n",
        "\n",
        "train_generator = datagen.flow_from_directory(\n",
        "        base_dir,\n",
        "        target_size=(img_rows,img_cols),\n",
        "        batch_size=batch_size,\n",
        "        class_mode='categorical',\n",
        "        color_mode='rgb',\n",
        "        subset='training')\n",
        "validation_generator = datagen.flow_from_directory(\n",
        "        base_dir,\n",
        "        target_size=(img_rows,img_cols),\n",
        "        batch_size=batch_size,\n",
        "        class_mode='categorical',\n",
        "        color_mode='rgb',\n",
        "        subset='validation')"
      ],
      "execution_count": null,
      "outputs": [
        {
          "output_type": "stream",
          "text": [
            "Found 1314 images belonging to 3 classes.\n",
            "Found 874 images belonging to 3 classes.\n"
          ],
          "name": "stdout"
        }
      ]
    },
    {
      "cell_type": "code",
      "metadata": {
        "id": "5x_HkMwE-Juu",
        "colab": {
          "base_uri": "https://localhost:8080/",
          "height": 34
        },
        "outputId": "86fb1f02-6e08-4e66-cd1e-c221ecb0e797"
      },
      "source": [
        "print(validation_generator.class_indices)"
      ],
      "execution_count": null,
      "outputs": [
        {
          "output_type": "stream",
          "text": [
            "{'paper': 0, 'rock': 1, 'scissors': 2}\n"
          ],
          "name": "stdout"
        }
      ]
    },
    {
      "cell_type": "code",
      "metadata": {
        "id": "KI0qAPXK9fDL"
      },
      "source": [
        "from tensorflow.keras import Input\n",
        "from tensorflow.keras.models import Sequential\n",
        "from tensorflow.keras.layers import Conv2D, MaxPooling2D, Flatten, Dense"
      ],
      "execution_count": null,
      "outputs": []
    },
    {
      "cell_type": "code",
      "metadata": {
        "id": "icAg29yx_fwr"
      },
      "source": [
        "# Create a Sequential model by passing a list of layers to the Sequential constructor\n",
        "from tensorflow.keras.layers import Dropout\n",
        "img_rows,img_cols=120,120\n",
        "model = Sequential([Conv2D(filters=32, kernel_size=(3,3), padding='same', activation='relu', \n",
        "                           input_shape=(img_rows,img_cols,3)),\n",
        "                    MaxPooling2D(pool_size=(2,2)),\n",
        "                    Conv2D(filters=32, kernel_size=(3,3), padding='same', activation='relu'),\n",
        "                    MaxPooling2D(pool_size=(2,2)),\n",
        "                    Dropout(rate=0.25),\n",
        "                    Conv2D(filters=64, kernel_size=(3,3), padding='same',activation='relu'),\n",
        "                    MaxPooling2D(pool_size=(2,2)),\n",
        "                    Conv2D(filters=128, kernel_size=(3,3), padding='same',activation='relu'),\n",
        "                    MaxPooling2D(pool_size=(2,2)),\n",
        "                    Dropout(rate=0.25),\n",
        "                    Flatten(),\n",
        "                    Dropout(rate=0.5),\n",
        "                    Dense(units=512, activation='relu'),\n",
        "                    Dense(units=num_classes, activation='softmax')])"
      ],
      "execution_count": null,
      "outputs": []
    },
    {
      "cell_type": "code",
      "metadata": {
        "id": "XAhpq7nb_rti",
        "colab": {
          "base_uri": "https://localhost:8080/",
          "height": 646
        },
        "outputId": "ee5b63b7-bcb6-420c-b4f9-a5f5b6c2e608"
      },
      "source": [
        "print(model.summary())"
      ],
      "execution_count": null,
      "outputs": [
        {
          "output_type": "stream",
          "text": [
            "Model: \"sequential\"\n",
            "_________________________________________________________________\n",
            "Layer (type)                 Output Shape              Param #   \n",
            "=================================================================\n",
            "conv2d (Conv2D)              (None, 120, 120, 32)      896       \n",
            "_________________________________________________________________\n",
            "max_pooling2d (MaxPooling2D) (None, 60, 60, 32)        0         \n",
            "_________________________________________________________________\n",
            "conv2d_1 (Conv2D)            (None, 60, 60, 32)        9248      \n",
            "_________________________________________________________________\n",
            "max_pooling2d_1 (MaxPooling2 (None, 30, 30, 32)        0         \n",
            "_________________________________________________________________\n",
            "dropout (Dropout)            (None, 30, 30, 32)        0         \n",
            "_________________________________________________________________\n",
            "conv2d_2 (Conv2D)            (None, 30, 30, 64)        18496     \n",
            "_________________________________________________________________\n",
            "max_pooling2d_2 (MaxPooling2 (None, 15, 15, 64)        0         \n",
            "_________________________________________________________________\n",
            "conv2d_3 (Conv2D)            (None, 15, 15, 128)       73856     \n",
            "_________________________________________________________________\n",
            "max_pooling2d_3 (MaxPooling2 (None, 7, 7, 128)         0         \n",
            "_________________________________________________________________\n",
            "dropout_1 (Dropout)          (None, 7, 7, 128)         0         \n",
            "_________________________________________________________________\n",
            "flatten (Flatten)            (None, 6272)              0         \n",
            "_________________________________________________________________\n",
            "dropout_2 (Dropout)          (None, 6272)              0         \n",
            "_________________________________________________________________\n",
            "dense (Dense)                (None, 512)               3211776   \n",
            "_________________________________________________________________\n",
            "dense_1 (Dense)              (None, 3)                 1539      \n",
            "=================================================================\n",
            "Total params: 3,315,811\n",
            "Trainable params: 3,315,811\n",
            "Non-trainable params: 0\n",
            "_________________________________________________________________\n",
            "None\n"
          ],
          "name": "stdout"
        }
      ]
    },
    {
      "cell_type": "code",
      "metadata": {
        "id": "Emp1QHdb_7wA"
      },
      "source": [
        "import tensorflow as tf\n",
        "accuracythreshold=96e-2\n",
        "\n",
        "class AccCallback(tf.keras.callbacks.Callback): \n",
        "    def on_epoch_end(self, epoch, logs={}): \n",
        "        if(logs.get('accuracy') >= accuracythreshold):   \n",
        "          print(\"\\nReached %2.2f%% accuracy, stop training!\" %(accuracythreshold*100))   \n",
        "          self.model.stop_training = True"
      ],
      "execution_count": null,
      "outputs": []
    },
    {
      "cell_type": "code",
      "metadata": {
        "id": "zYBKTmY0AJtO"
      },
      "source": [
        "from tensorflow.keras.optimizers import RMSprop\n",
        "model.compile(loss='categorical_crossentropy',\n",
        "              optimizer=RMSprop(),\n",
        "              metrics=['accuracy'])"
      ],
      "execution_count": null,
      "outputs": []
    },
    {
      "cell_type": "code",
      "metadata": {
        "id": "TDu0k9XzAqcn",
        "colab": {
          "base_uri": "https://localhost:8080/",
          "height": 459
        },
        "outputId": "d7090238-6b89-4117-ba7c-30e75a4cd25c"
      },
      "source": [
        "nb_train_samples=1314\n",
        "nb_validation_samples=874\n",
        "epochs=55\n",
        "\n",
        "history=model.fit(\n",
        "    train_generator,\n",
        "    steps_per_epoch=nb_train_samples // batch_size,\n",
        "    epochs=epochs,\n",
        "    callbacks=[AccCallback()],\n",
        "    validation_data=validation_generator,\n",
        "    validation_steps=nb_validation_samples // batch_size)"
      ],
      "execution_count": null,
      "outputs": [
        {
          "output_type": "stream",
          "text": [
            "Epoch 1/55\n",
            "41/41 [==============================] - 10s 251ms/step - loss: 1.2234 - accuracy: 0.3775 - val_loss: 1.0217 - val_accuracy: 0.5116\n",
            "Epoch 2/55\n",
            "41/41 [==============================] - 10s 250ms/step - loss: 0.7712 - accuracy: 0.6521 - val_loss: 0.4009 - val_accuracy: 0.8843\n",
            "Epoch 3/55\n",
            "41/41 [==============================] - 10s 246ms/step - loss: 0.4301 - accuracy: 0.8346 - val_loss: 0.3128 - val_accuracy: 0.8854\n",
            "Epoch 4/55\n",
            "41/41 [==============================] - 10s 247ms/step - loss: 0.3320 - accuracy: 0.8838 - val_loss: 0.2858 - val_accuracy: 0.9074\n",
            "Epoch 5/55\n",
            "41/41 [==============================] - 10s 248ms/step - loss: 0.2783 - accuracy: 0.9017 - val_loss: 0.1964 - val_accuracy: 0.9410\n",
            "Epoch 6/55\n",
            "41/41 [==============================] - 10s 246ms/step - loss: 0.2464 - accuracy: 0.9165 - val_loss: 0.1813 - val_accuracy: 0.9491\n",
            "Epoch 7/55\n",
            "41/41 [==============================] - 10s 245ms/step - loss: 0.2241 - accuracy: 0.9150 - val_loss: 0.1661 - val_accuracy: 0.9387\n",
            "Epoch 8/55\n",
            "41/41 [==============================] - 10s 245ms/step - loss: 0.1839 - accuracy: 0.9407 - val_loss: 0.2142 - val_accuracy: 0.9213\n",
            "Epoch 9/55\n",
            "41/41 [==============================] - 10s 245ms/step - loss: 0.1705 - accuracy: 0.9345 - val_loss: 0.1308 - val_accuracy: 0.9583\n",
            "Epoch 10/55\n",
            "41/41 [==============================] - 10s 245ms/step - loss: 0.1599 - accuracy: 0.9501 - val_loss: 0.1088 - val_accuracy: 0.9653\n",
            "Epoch 11/55\n",
            "41/41 [==============================] - 10s 246ms/step - loss: 0.1342 - accuracy: 0.9587 - val_loss: 0.0859 - val_accuracy: 0.9745\n",
            "Epoch 12/55\n",
            "41/41 [==============================] - ETA: 0s - loss: 0.1298 - accuracy: 0.9618\n",
            "Reached 96.00% accuracy, stop training!\n",
            "41/41 [==============================] - 10s 245ms/step - loss: 0.1298 - accuracy: 0.9618 - val_loss: 0.0998 - val_accuracy: 0.9676\n"
          ],
          "name": "stdout"
        }
      ]
    },
    {
      "cell_type": "code",
      "metadata": {
        "id": "tG6fAUXUB4Sp",
        "colab": {
          "base_uri": "https://localhost:8080/",
          "height": 156
        },
        "outputId": "d3d60918-28c7-41d9-d285-1c5a97fb584b"
      },
      "source": [
        "model.save('/content/drive/My Drive/rock paper scissor dataset/sps_model') "
      ],
      "execution_count": null,
      "outputs": [
        {
          "output_type": "stream",
          "text": [
            "WARNING:tensorflow:From /usr/local/lib/python3.6/dist-packages/tensorflow/python/training/tracking/tracking.py:111: Model.state_updates (from tensorflow.python.keras.engine.training) is deprecated and will be removed in a future version.\n",
            "Instructions for updating:\n",
            "This property should not be used in TensorFlow 2.0, as updates are applied automatically.\n",
            "WARNING:tensorflow:From /usr/local/lib/python3.6/dist-packages/tensorflow/python/training/tracking/tracking.py:111: Layer.updates (from tensorflow.python.keras.engine.base_layer) is deprecated and will be removed in a future version.\n",
            "Instructions for updating:\n",
            "This property should not be used in TensorFlow 2.0, as updates are applied automatically.\n",
            "INFO:tensorflow:Assets written to: /content/drive/My Drive/rock paper scissor dataset/sps_model/assets\n"
          ],
          "name": "stdout"
        }
      ]
    }
  ]
}